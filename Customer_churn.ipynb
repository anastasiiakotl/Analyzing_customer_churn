{
 "cells": [
  {
   "cell_type": "markdown",
   "id": "e797914d",
   "metadata": {},
   "source": [
    "# Analysing Data in tables"
   ]
  },
  {
   "cell_type": "code",
   "execution_count": null,
   "id": "0bc1d356",
   "metadata": {},
   "outputs": [],
   "source": [
    "`churn_data` table:\n",
    "\n",
    "Column number | Column name       | Type      | Description\n",
    " ------------ | :---------:           | :---------:           | ------------:\n",
    "0             | `account_length`        | numerical (`int`)     | Unknown units of time, how long the customer has been a customer.\n",
    "1             | `international_plan`    | categorical (nominal) | Contract with special conditions for cheaper calls to other countries.\n",
    "2             | `voice_mail_plan`       | categorical (nominal) | Contract with special conditions for more voicemail storage.\n",
    "3             | `number_vmail_messages` | numerical (`int`)     | Number of voicemail messages.\n",
    "4             | `total_day_minutes`     | numerical (`float`)   | Duration in minutes of all calls from 8am to 4pm.\n",
    "5             | `total_day_calls`      | numerical (`int`)     | Number of all calls from 8am to 4pm.\n",
    "6             | `total_day_charge`     | numerical (`float`)   | Calculated costs for all calls from 8am to 4pm.\n",
    "7             | `total_eve_minutes`     | numerical (`float`)   | Duration in minutes of all calls from 4pm to 10pm.\n",
    "8             | `total_eve_calls`      | numerical (`int`)     | Number of all calls from 4pm to 10pm.\n",
    "9             | `total_eve_charge`     | numerical (`float`)   | Calculated costs for all calls from 4pm to 10pm.\n",
    "10             | `total_night_minutes`     | numerical (`float`)   | Duration in minutes of all calls from 10pm to 8am.\n",
    "11             | `total_night_calls`      | numerical (`int`)     | Number of all calls from 10pm to 8am.\n",
    "12             | `total_night_charge`     | numerical (`float`)   | Calculated costs for all calls from 10pm to 8am.\n",
    "13            | `customer_service_calls`| numerical (`int`)     | Number of calls to customer service, e.g. due to technical problems.\n",
    "14            | `churn`                 | categorical (nominal) | Did the customer leave? (1=yes 0=no)\n",
    "15            | `local_area_code`       | categorical (nominal) | local area code for telephone.\n",
    "16            | `phone_num`             | Categorical (nominal) | Customers telephone number not including the local area code.\n",
    "\n",
    "`cities` table:\n",
    "\n",
    "Column number | Column name       | Type           | Description\n",
    " ------------ | :---------:          | :---------:           | ------------:\n",
    "0            | `city`       | categorical (nominal) | Cities.\n",
    "1            | `area_code`       | categorical (nominal) | local area code for telephone."
   ]
  },
  {
   "cell_type": "markdown",
   "id": "2c0654a7",
   "metadata": {},
   "source": [
    "# 1) Importing Data"
   ]
  },
  {
   "cell_type": "code",
   "execution_count": null,
   "id": "a0880dac",
   "metadata": {},
   "outputs": [],
   "source": [
    "import sqlalchemy as sa\n",
    "import pandas as pd"
   ]
  },
  {
   "cell_type": "code",
   "execution_count": null,
   "id": "b376a5f4",
   "metadata": {},
   "outputs": [],
   "source": [
    "# get access to the tables\n",
    "engine = sa.create_engine('sqlite:///telco_churn.db')\n",
    "connection = engine.connect()"
   ]
  },
  {
   "cell_type": "code",
   "execution_count": null,
   "id": "ae48f762",
   "metadata": {},
   "outputs": [],
   "source": [
    "# inspect tables\n",
    "inspector =sa.inspect(engine)\n",
    "tables = inspector.get_table_names()\n",
    "tables"
   ]
  },
  {
   "cell_type": "code",
   "execution_count": null,
   "id": "d4cd0238",
   "metadata": {},
   "outputs": [],
   "source": [
    "# read datas in data frame \n",
    "url = '''\n",
    "SELECT *\n",
    "FROM churn_data\n",
    "JOIN cities\n",
    "ON churn_data.local_area_code = cities.area_code\n",
    "'''"
   ]
  },
  {
   "cell_type": "code",
   "execution_count": null,
   "id": "f097c1ab",
   "metadata": {},
   "outputs": [],
   "source": [
    "df = pd.read_sql(url, connection)\n",
    "df.head()"
   ]
  },
  {
   "cell_type": "code",
   "execution_count": null,
   "id": "f3060a0b",
   "metadata": {},
   "outputs": [],
   "source": [
    "# close connection\n",
    "connection.close()"
   ]
  },
  {
   "cell_type": "code",
   "execution_count": null,
   "id": "ef43faaa",
   "metadata": {},
   "outputs": [],
   "source": [
    "# delete unnecessary column\n",
    "df = df.drop('local_area_code', axis = 1)\n",
    "df.head()"
   ]
  },
  {
   "cell_type": "markdown",
   "id": "9da47490",
   "metadata": {},
   "source": [
    "# **2)** Check and clean the data"
   ]
  },
  {
   "cell_type": "code",
   "execution_count": null,
   "id": "b47edb09",
   "metadata": {},
   "outputs": [],
   "source": [
    "# look at the data\n",
    "print(df.shape)\n",
    "df.describe()"
   ]
  },
  {
   "cell_type": "code",
   "execution_count": null,
   "id": "442198b7",
   "metadata": {},
   "outputs": [],
   "source": [
    "import numpy as np"
   ]
  },
  {
   "cell_type": "code",
   "execution_count": null,
   "id": "35773b68",
   "metadata": {},
   "outputs": [],
   "source": [
    "# delete rows with inappropriate datas\n",
    "mask_cust_service = (df.loc[:, 'customer_service_calls'])<0\n",
    "df.loc[mask_cust_service, :] =np.nan\n",
    "df = df.dropna(axis = 0, thresh = 18)\n",
    "df.shape"
   ]
  },
  {
   "cell_type": "code",
   "execution_count": null,
   "id": "15ed352a",
   "metadata": {},
   "outputs": [],
   "source": [
    "# change types to save memory \n",
    "float_data = ['account_length', 'number_vmail_messages', 'total_day_minutes', 'total_day_calls', 'total_day_charge', 'total_eve_minutes',\n",
    "             'total_eve_calls', 'total_eve_charge', 'total_night_minutes', 'total_night_calls', 'total_night_calls', 'total_night_charge',\n",
    "             'total_night_minutes', 'total_night_calls', 'total_night_charge', 'customer_service_calls', 'phone_num']\n",
    "fot i in float_data:\n",
    "    df.loc[:, i] = df.loc[:, i].astype('float32')\n",
    "\n",
    "category_data = ['international_plan', 'voice_mail_plan', 'city']\n",
    "for i in category_data:\n",
    "    df.loc[:, i] = df.loc[:, i].astype('category')\n",
    "\n",
    "int_data = ['area_code', 'churn']\n",
    "for i in int_data:\n",
    "    df.loc[:, i] = df.loc[:, i].astype('int32')\n",
    "\n",
    "df.dtypes"
   ]
  },
  {
   "cell_type": "code",
   "execution_count": null,
   "id": "9beeb497",
   "metadata": {},
   "outputs": [],
   "source": [
    "# cheack the missing values\n",
    "df.isna().sum()"
   ]
  },
  {
   "cell_type": "markdown",
   "id": "3c9f8b73",
   "metadata": {},
   "source": [
    "# **3)** What are the names of the **four cities** with the highest rates of customer churn?"
   ]
  },
  {
   "cell_type": "code",
   "execution_count": null,
   "id": "c3becdae",
   "metadata": {},
   "outputs": [],
   "source": [
    "# looking for cities with the highest rates of customer churn\n",
    "cities = pd.crosstab(index = df.loc[:, 'city'], columns = df.loc[:, 'churn']).sort_values(by = 1, ascending=False)\n",
    "cities = cities[:4]\n",
    "cities"
   ]
  },
  {
   "cell_type": "markdown",
   "id": "4db1b42b",
   "metadata": {},
   "source": [
    "# **4a)** Checking **categorical** data series for identifying customers who will possibly leave soon"
   ]
  },
  {
   "cell_type": "code",
   "execution_count": null,
   "id": "b93e5de4",
   "metadata": {},
   "outputs": [],
   "source": [
    "# check 'international_plan'\n",
    "intern_plan_crosstab = pd.crosstab(columns = df.loc[:, 'churn'], \n",
    "                                    index= df.loc[:, 'international_plan'], \n",
    "                                   normalize = 'index')\n",
    "intern_plan_crosstab"
   ]
  },
  {
   "cell_type": "code",
   "execution_count": null,
   "id": "fe4d6798",
   "metadata": {},
   "outputs": [],
   "source": [
    "# check 'voice_mail_plan'\n",
    "voice_mail_plan_crosstab = pd.crosstab(columns=df.loc[:, 'churn'], \n",
    "                                      index=df.loc[:, 'voice_mail_plan'],\n",
    "                                       normalize='index')\n",
    "voice_mail_plan_crosstab"
   ]
  },
  {
   "cell_type": "code",
   "execution_count": null,
   "id": "fb29194d",
   "metadata": {},
   "outputs": [],
   "source": [
    "# select customers who may leave based on categorical data\n",
    "mask_intern_plan = (df.loc[:, 'churn'] == 0) & (df.loc[:, 'international_plan'] =='yes')\n",
    "df_customers_could_leave = df.loc[mask_intern_plan, :]"
   ]
  },
  {
   "cell_type": "code",
   "execution_count": null,
   "id": "3b1de10f",
   "metadata": {},
   "outputs": [],
   "source": [
    "print(df_customers_could_leave.shape)\n",
    "df_customers_could_leave.head()"
   ]
  },
  {
   "cell_type": "markdown",
   "id": "a8e285ce",
   "metadata": {},
   "source": [
    "# **4b)** Checking **integer** data series and setting the **threshold**"
   ]
  },
  {
   "cell_type": "code",
   "execution_count": null,
   "id": "2671d22c",
   "metadata": {},
   "outputs": [],
   "source": [
    "# change some types to int\n",
    "df.loc[:, 'account_length'] = df.loc[:, 'account_length'].astype('int32')\n",
    "df.loc[:, 'number_vmail_messages'] = df.loc[:, 'number_vmail_messages'].astype('int32')\n",
    "df.loc[:, 'total_day_calls'] = df.loc[:, 'total_day_calls'].astype('int32')\n",
    "df.loc[:, 'total_eve_calls'] = df.loc[:, 'total_eve_calls'].astype('int32')\n",
    "df.loc[:, 'total_night_calls'] = df.loc[:, 'total_night_calls'].astype('int32')\n",
    "df.loc[:, 'customer_service_calls'] = df.loc[:, 'customer_service_calls'].astype('int32')\n",
    "df.dtypes"
   ]
  },
  {
   "cell_type": "code",
   "execution_count": null,
   "id": "e07e9e0a",
   "metadata": {},
   "outputs": [],
   "source": [
    "%matplotlib inline\n",
    "import matplotlib.pyplot as plt"
   ]
  },
  {
   "cell_type": "code",
   "execution_count": null,
   "id": "4abb6394",
   "metadata": {},
   "outputs": [],
   "source": [
    "# check integer columns with boxplots\n",
    "fig, ax = plt.subplots(nrows = 5, ncols = 1, figsize = [10,20])\n",
    "\n",
    "df.boxplot(column = 'account_length', by = 'churn', ax=ax[0])\n",
    "df.boxplot(column = 'number_vmail_messages', by = 'churn', ax=ax[1])\n",
    "df.boxplot(column = 'total_day_calls', by = 'churn', ax=ax[2])\n",
    "df.boxplot(column = 'total_eve_calls', by = 'churn', ax=ax[3])\n",
    "df.boxplot(column = 'total_night_calls', by = 'churn', ax=ax[4])\n",
    "\n",
    "plt.subplots_adjust(wspace=0, hspace=0.5)"
   ]
  },
  {
   "cell_type": "code",
   "execution_count": null,
   "id": "ff85415e",
   "metadata": {},
   "outputs": [],
   "source": [
    "# check integer columns with histograms\n",
    "fig, ax = plt.subplots(nrows = 5, ncols = 1, figsize = [8,20])\n",
    "\n",
    "df.groupby('churn')['account_length'].plot(kind = 'hist', ax=ax[0], legend = True, bins=50)\n",
    "df.groupby('churn')['number_vmail_messages'].plot(kind = 'hist', ax=ax[1], legend = True, bins=50)\n",
    "df.groupby('churn')['total_day_calls'].plot(kind = 'hist', ax=ax[2], legend = True, bins=50)\n",
    "df.groupby('churn')['total_eve_calls'].plot(kind = 'hist', ax=ax[3], legend = True, bins=50)\n",
    "df.groupby('churn')['total_night_calls'].plot(kind = 'hist', ax=ax[4], legend = True, bins=50);"
   ]
  },
  {
   "cell_type": "code",
   "execution_count": null,
   "id": "1446e14e",
   "metadata": {},
   "outputs": [],
   "source": [
    "# select customers based on integer column\n",
    "customer_service_calls_crosstab = pd.crosstab(columns = df.loc[:, 'churn'], \n",
    "                                    index= df.loc[:, 'customer_service_calls'],\n",
    "                                             normalize = 'index')\n",
    "mask =(df.loc[:, 'customer_service_calls'] >3) & (df.loc[:, 'churn'] ==0)\n",
    "df_customers_could_leave2 = df.loc[mask,:]\n",
    "df_customers_could_leave2.shape"
   ]
  },
  {
   "cell_type": "markdown",
   "id": "99d1b020",
   "metadata": {},
   "source": [
    "# **4c)** Checking **floating point** data series and determining the threshold by using **logistic regression**"
   ]
  },
  {
   "cell_type": "code",
   "execution_count": null,
   "id": "7c6a2b80",
   "metadata": {},
   "outputs": [],
   "source": [
    "df.dtypes"
   ]
  },
  {
   "cell_type": "code",
   "execution_count": null,
   "id": "fff367bc",
   "metadata": {},
   "outputs": [],
   "source": [
    "# Check charge and minutes columns\n",
    "fig, ax = plt.subplots(nrows = 1, ncols = 3, figsize = [15,5])\n",
    "df.plot(kind = 'scatter', \n",
    "        x='total_day_minutes', \n",
    "        y='total_day_charge', \n",
    "        ax=ax[0],\n",
    "        xlim=(0,500),\n",
    "        ylim=(0,60));  # check day columns\n",
    "df.plot(kind='scatter', \n",
    "        x='total_eve_minutes', \n",
    "        y='total_eve_charge', \n",
    "        ax=ax[1],\n",
    "        xlim=(0,500),\n",
    "        ylim=(0,60));  # check evening columns\n",
    "df.plot(kind='scatter', \n",
    "        x='total_night_minutes', \n",
    "        y='total_night_charge', \n",
    "        ax=ax[2],\n",
    "        xlim=(0,500),\n",
    "        ylim=(0,60)); "
   ]
  },
  {
   "cell_type": "code",
   "execution_count": null,
   "id": "4b96fc76",
   "metadata": {},
   "outputs": [],
   "source": [
    "# drop outlines\n",
    "mask_total_day = df.loc[:, 'total_day_minutes']>400\n",
    "print(df.shape)\n",
    "df = df.drop(df.index[mask_total_day], axis=0)\n",
    "df.shape"
   ]
  },
  {
   "cell_type": "code",
   "execution_count": null,
   "id": "c2624919",
   "metadata": {},
   "outputs": [],
   "source": [
    "# check other float columns with boxplots and histograms\n",
    "fig, ax = plt.subplots(nrows = 6, ncols = 2, figsize = [15,25])\n",
    "\n",
    "df.groupby('churn')['total_day_minutes'].plot(kind = 'hist', ax=ax[0][0], legend = True, bins=50)\n",
    "df.groupby('churn')['total_day_charge'].plot(kind = 'hist', ax=ax[1][0], legend = True, bins=50)\n",
    "df.groupby('churn')['total_eve_minutes'].plot(kind = 'hist', ax=ax[2][0], legend = True, bins=50)\n",
    "df.groupby('churn')['total_eve_charge'].plot(kind = 'hist', ax=ax[3][0], legend = True, bins=50)\n",
    "df.groupby('churn')['total_night_minutes'].plot(kind = 'hist', ax=ax[4][0], legend = True, bins=50)\n",
    "df.groupby('churn')['total_night_charge'].plot(kind = 'hist', ax=ax[5][0], legend = True, bins=50)\n",
    "\n",
    "df.boxplot(column = 'total_day_minutes', by = 'churn', ax=ax[0][1])\n",
    "df.boxplot(column = 'total_day_charge', by = 'churn', ax=ax[1][1])\n",
    "df.boxplot(column = 'total_eve_minutes', by = 'churn', ax=ax[2][1])\n",
    "df.boxplot(column = 'total_eve_charge', by = 'churn', ax=ax[3][1])\n",
    "df.boxplot(column = 'total_night_minutes', by = 'churn', ax=ax[4][1])\n",
    "df.boxplot(column = 'total_night_charge', by = 'churn', ax=ax[5][1])\n",
    "\n",
    "plt.subplots_adjust(wspace=0.2, hspace=0.5)"
   ]
  },
  {
   "cell_type": "code",
   "execution_count": null,
   "id": "7118b7a9",
   "metadata": {},
   "outputs": [],
   "source": [
    "import seaborn as sns"
   ]
  },
  {
   "cell_type": "code",
   "execution_count": null,
   "id": "cbc3ee15",
   "metadata": {},
   "outputs": [],
   "source": [
    "# pair plot\n",
    "df_new = df.loc[:, ['total_day_minutes','total_day_charge','total_eve_minutes','total_eve_charge','total_night_minutes',\n",
    "                    'churn', 'total_night_charge']]\n",
    "sns.pairplot(df_new)"
   ]
  },
  {
   "cell_type": "code",
   "execution_count": null,
   "id": "4c7fcfbd",
   "metadata": {},
   "outputs": [],
   "source": [
    "# correlation matrix\n",
    "sns.heatmap(df_new.corr(), annot=True);"
   ]
  },
  {
   "cell_type": "code",
   "execution_count": null,
   "id": "fac57fef",
   "metadata": {},
   "outputs": [],
   "source": [
    "# logistic model\n",
    "import statsmodels.formula.api as smf"
   ]
  },
  {
   "cell_type": "code",
   "execution_count": null,
   "id": "68fbfedd",
   "metadata": {},
   "outputs": [],
   "source": [
    "# define a logit model and fit it\n",
    "model = smf.logit(formula='churn ~ total_day_minutes', data=df_new)\n",
    "results = model.fit()"
   ]
  },
  {
   "cell_type": "code",
   "execution_count": null,
   "id": "dc2da72d",
   "metadata": {},
   "outputs": [],
   "source": [
    "# check summary\n",
    "results.summary()"
   ]
  },
  {
   "cell_type": "code",
   "execution_count": null,
   "id": "988c6ef1",
   "metadata": {},
   "outputs": [],
   "source": [
    "# Use the trained results to predict a given range \n",
    "X = pd.Series(range(800))  \n",
    "X_df = pd.DataFrame(X)\n",
    "X_df.columns = ['total_day_minutes']\n",
    "X_df.head()"
   ]
  },
  {
   "cell_type": "code",
   "execution_count": null,
   "id": "2ed30f29",
   "metadata": {},
   "outputs": [],
   "source": [
    "# plot the S-curve\n",
    "p_y = results.predict(X_df)\n",
    "p_y.plot()"
   ]
  },
  {
   "cell_type": "code",
   "execution_count": null,
   "id": "c4030baa",
   "metadata": {},
   "outputs": [],
   "source": [
    "# Calculate treshold value\n",
    "p_y[p_y>=0.5].index[0]"
   ]
  },
  {
   "cell_type": "code",
   "execution_count": null,
   "id": "ac2b63ff",
   "metadata": {},
   "outputs": [],
   "source": [
    "# plot treshold value as a vertical line in logistic regression plot\n",
    "fig, ax = plt.subplots()\n",
    "p_y.plot()\n",
    "ax.vlines(x=p_y[p_y>=0.5].index[0], ymin=0, ymax=1)"
   ]
  },
  {
   "cell_type": "code",
   "execution_count": null,
   "id": "496e50b3",
   "metadata": {},
   "outputs": [],
   "source": [
    "# identify customer(s) to be contacted based on critical value from logistic regression\n",
    "mask = df_new.loc[:, 'total_day_minutes']>p_y[p_y>=0.5].index[0]\n",
    "df.loc[mask,:]"
   ]
  },
  {
   "cell_type": "markdown",
   "id": "1eeeaa73",
   "metadata": {},
   "source": [
    "# **5)** Visualizing the cities and other selected data series."
   ]
  },
  {
   "cell_type": "code",
   "execution_count": null,
   "id": "fadc3dd0",
   "metadata": {},
   "outputs": [],
   "source": [
    "plt.style.use('fivethirtyeight')"
   ]
  },
  {
   "cell_type": "code",
   "execution_count": null,
   "id": "78d6ed32",
   "metadata": {},
   "outputs": [],
   "source": [
    "# column chart of urban areas\n",
    "fig, ax = plt.subplots(figsize = [10,5])\n",
    "\n",
    "color = ['#C154C1','#702963']\n",
    "\n",
    "cities = pd.crosstab(index = df.loc[:, 'city'], columns = df.loc[:, 'churn']).sort_values(by = 1, ascending=False)\n",
    "\n",
    "cities.plot(kind = 'bar', ax=ax, title = 'Cities with the highest rates of customer churn', legend = ['yes', 'no'],\n",
    "           color = color, ylim = [0,340])\n",
    "\n",
    "ax.set_ylabel('Number of people', fontsize=13)\n",
    "ax.set_xlabel('City', fontsize=15)\n",
    "\n",
    "ax.legend(['Current customers', 'Customers who left'],\n",
    "          fancybox=True, \n",
    "          framealpha=1, \n",
    "          shadow=True, \n",
    "          borderpad=0.7,  \n",
    "          loc='upper right', \n",
    "          bbox_to_anchor=(1.1, 1.01))\n",
    "\n",
    "ann = ax.annotate(s='Cities to target with poster campaigns',\n",
    "                  xy=[0, 240],\n",
    "                  xytext=[0, 285],\n",
    "                  arrowprops=dict(facecolor='#8B008B'))\n",
    "ann1 = ax.annotate(s='',\n",
    "                  xy=[1, 240],\n",
    "                  xytext=[1, 280],\n",
    "                  arrowprops=dict(facecolor='#8B008B'))\n",
    "ann2 = ax.annotate(s='',\n",
    "                  xy=[2, 240],\n",
    "                  xytext=[2, 280],\n",
    "                  arrowprops=dict(facecolor='#8B008B'))\n",
    "ann3 = ax.annotate(s='',\n",
    "                  xy=[3, 245],\n",
    "                  xytext=[3, 280],\n",
    "                  arrowprops=dict(facecolor='#8B008B'))\n",
    "\n",
    "ax.xaxis.set_tick_params(labelrotation=45);"
   ]
  },
  {
   "cell_type": "code",
   "execution_count": null,
   "id": "d0255958",
   "metadata": {},
   "outputs": [],
   "source": [
    "# chart of categorical data\n",
    "intern_plan_crosstab = pd.crosstab(index = df.loc[:, 'churn'], \n",
    "                                   columns = df.loc[:, 'international_plan'], normalize = 'columns')\n",
    "\n",
    "fig, ax = plt.subplots(nrows = 1, ncols = 2, figsize = [10,5])\n",
    "\n",
    "color = ['#702963', '#C154C1']\n",
    "\n",
    "intern_plan_crosstab.plot(kind = 'pie', y = 0, ax=ax[0], legend = False, labels =['', ''],\n",
    "                          explode = (0, 0.15), colors=color)\n",
    "intern_plan_crosstab.plot(kind = 'pie', y = 1, ax=ax[1], legend = True, labels =['', ''],  \n",
    "                          explode = (0, 0.08),colors=color)\n",
    "\n",
    "ax[1].legend(['Current customers', 'Customers who left'],\n",
    "          fancybox=True, \n",
    "          framealpha=1, \n",
    "          shadow=True, \n",
    "          borderpad=0.5,  \n",
    "          loc='upper right', \n",
    "          bbox_to_anchor=(1.1, 1.09),\n",
    "            fontsize=12)\n",
    "fig.suptitle('Percentatge of customers who use international plan')\n",
    "\n",
    "ann = ax[1].annotate(s='',\n",
    "                  xy=[0.4, 0],\n",
    "                  xytext=[0.3, -0.4],\n",
    "                  arrowprops=dict(facecolor='#8B008B'))\n",
    "text = ax[1].text(x=-0.4,\n",
    "           y=-0.5,\n",
    "           s='Customers who may leave')\n",
    "\n",
    "ax[0].set(xlabel = 'Without international plan', ylabel ='')\n",
    "ax[1].set(xlabel= 'Have international plan', ylabel='');"
   ]
  },
  {
   "cell_type": "code",
   "execution_count": null,
   "id": "811385b0",
   "metadata": {},
   "outputs": [],
   "source": [
    "# chart of integer data\n",
    "customer_service_calls_crosstab = pd.crosstab(columns = df.loc[:, 'churn'], \n",
    "                                    index= df.loc[:, 'customer_service_calls'], normalize = 'index')\n",
    "\n",
    "fig, ax = plt.subplots(nrows = 1, ncols = 2, figsize = [13,5])\n",
    "\n",
    "color = ['#C154C1','#702963']\n",
    "\n",
    "customer_service_calls_crosstab.plot(kind = 'bar', ax=ax[0], legend = False, color=color)\n",
    "customer_service_calls_crosstab.loc[4:8].plot(kind = 'bar', ax=ax[1], color=color, ylim = [0,1])\n",
    "\n",
    "fig.suptitle('Percentatge of customers who made service calls')\n",
    "ax[0].set_ylabel('Percent of people', fontsize = 13) \n",
    "ax[0].set_xlabel('Service calls', fontsize = 13)\n",
    "ax[1].set_xlabel('Service calls', fontsize = 13)\n",
    "ax[1].set_yticklabels([None])\n",
    "\n",
    "ax[1].legend(['Current customers', 'Customers who left'],\n",
    "          fancybox=True, \n",
    "          framealpha=1, \n",
    "          shadow=True, \n",
    "          borderpad=0.5,  \n",
    "          loc='upper right', \n",
    "            fontsize=12)\n",
    "text = ax[1].text(x=-0.3,\n",
    "           y=0.75,\n",
    "           s='Current customers who are probably ready to leave')\n",
    "\n",
    "ann = ax[1].annotate(s='',\n",
    "                  xy=[0, 0.6],\n",
    "                  xytext=[0, 0.7],\n",
    "                  arrowprops=dict(facecolor='#8B008B'))\n",
    "ann = ax[1].annotate(s='',\n",
    "                  xy=[1, 0.6],\n",
    "                  xytext=[1, 0.7],\n",
    "                  arrowprops=dict(facecolor='#8B008B'))\n",
    "ann = ax[1].annotate(s='',\n",
    "                  xy=[2, 0.635],\n",
    "                  xytext=[2, 0.7],\n",
    "                  arrowprops=dict(facecolor='#8B008B'))\n",
    "ann = ax[1].annotate(s='',\n",
    "                  xy=[3, 0.6],\n",
    "                  xytext=[3, 0.7],\n",
    "                  arrowprops=dict(facecolor='#8B008B'))\n",
    "ann = ax[1].annotate(s='',\n",
    "                  xy=[4, 0.6],\n",
    "                  xytext=[4, 0.7],\n",
    "                  arrowprops=dict(facecolor='#8B008B'))\n",
    "\n",
    "\n",
    "plt.subplots_adjust(wspace=0.05, hspace=0.5);"
   ]
  },
  {
   "cell_type": "code",
   "execution_count": null,
   "id": "3b8f2f7f",
   "metadata": {},
   "outputs": [],
   "source": [
    "# plot for findings in logistic regression\n",
    "fig, ax = plt.subplots(figsize = [8,5])\n",
    "\n",
    "p_y.plot(ax=ax, color='#C154C1', xlim = [0,750])\n",
    "\n",
    "plt.ylabel('Probability of churn', fontsize = 13)\n",
    "plt.xlabel('Minutes pro day', fontsize = 13)\n",
    "\n",
    "\n",
    "ax.axvline(p_y[p_y>=0.5].index[0], color='#B284BE')\n",
    "\n",
    "ann = ax.annotate(s='The threshold value',\n",
    "                  xy=[345, 0.5],\n",
    "                  xytext=[100, 0.62],\n",
    "                  arrowprops=dict(facecolor='#8B008B'));\n"
   ]
  },
  {
   "cell_type": "markdown",
   "id": "3711154e",
   "metadata": {},
   "source": [
    "# **6)** Formulating a recommendation"
   ]
  },
  {
   "cell_type": "code",
   "execution_count": null,
   "id": "7233254c",
   "metadata": {},
   "outputs": [],
   "source": [
    "# observations, notes and recommendations \n",
    "\n",
    "# Firstly, the cities with the highest customer churn are Jacksonville,Orlando1, Cape Coral, and Orlando2. \n",
    "# They must be targeted with poster campaigns.\n",
    "\n",
    "# For the second marketing campaign are a few cases.\n",
    "\n",
    "# Among people who used the international plan, 42% left. \n",
    "# Therefore, it is necessary to approach individuals with the remaining 58%. It is 182 people.\n",
    "\n",
    "# Сompany should pay attention to people who often called the service \n",
    "# because many people left who made more than three calls. 129 people made a lot of calls and could potentially leave.\n",
    "\n",
    "# The logistic regression showed only one person, and he no longer uses the services of your company.\n",
    "\n",
    "# Overall you should approach individually of 311 people."
   ]
  }
 ],
 "metadata": {
  "kernelspec": {
   "display_name": "Python 3 (ipykernel)",
   "language": "python",
   "name": "python3"
  },
  "language_info": {
   "codemirror_mode": {
    "name": "ipython",
    "version": 3
   },
   "file_extension": ".py",
   "mimetype": "text/x-python",
   "name": "python",
   "nbconvert_exporter": "python",
   "pygments_lexer": "ipython3",
   "version": "3.11.2"
  }
 },
 "nbformat": 4,
 "nbformat_minor": 5
}
